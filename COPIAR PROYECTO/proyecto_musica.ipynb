{
 "cells": [
  {
   "cell_type": "markdown",
   "id": "aa839f7b",
   "metadata": {},
   "source": [
    "# Proyecto de análisis de música\n",
    "\n",
    "En este proyecto analizaremos los hábitos de escucha de música en Springfield y Shelbyville. Se estudiarán los datos, se limpiarán y se hará un análisis por ciudad y día de la semana."
   ]
  },
  {
   "cell_type": "markdown",
   "id": "6c46d2f1",
   "metadata": {},
   "source": [
    "## Etapa 1. Descripción de los datos"
   ]
  },
  {
   "cell_type": "code",
   "execution_count": null,
   "id": "10dcb05e",
   "metadata": {},
   "outputs": [],
   "source": [
    "import pandas as pd"
   ]
  },
  {
   "cell_type": "code",
   "execution_count": null,
   "id": "d4fa91ec",
   "metadata": {},
   "outputs": [],
   "source": [
    "df = pd.read_csv('/datasets/music_project_en.csv')\n",
    "df.head()"
   ]
  },
  {
   "cell_type": "markdown",
   "id": "d41f80d3",
   "metadata": {},
   "source": [
    "### Observaciones iniciales\n",
    "1. Las filas representan reproducciones de canciones con información del usuario, canción, artista, género, ciudad, hora y día.\n",
    "2. La información parece suficiente para responder la hipótesis.\n",
    "3. Se observan problemas como nombres de columnas inconsistentes, duplicados y valores ausentes."
   ]
  },
  {
   "cell_type": "markdown",
   "id": "3468de78",
   "metadata": {},
   "source": [
    "## Etapa 2. Preprocesamiento de datos"
   ]
  },
  {
   "cell_type": "code",
   "execution_count": null,
   "id": "29db3f4f",
   "metadata": {},
   "outputs": [],
   "source": [
    "# Renombrar columnas para uniformidad\n",
    "df = df.rename(columns=str.lower)\n",
    "df.head()"
   ]
  },
  {
   "cell_type": "code",
   "execution_count": null,
   "id": "82ca35d6",
   "metadata": {},
   "outputs": [],
   "source": [
    "# Eliminar duplicados\n",
    "df = df.drop_duplicates()\n",
    "df.duplicated().sum()"
   ]
  },
  {
   "cell_type": "code",
   "execution_count": null,
   "id": "74427c64",
   "metadata": {},
   "outputs": [],
   "source": [
    "# Manejar valores ausentes\n",
    "df = df.dropna()\n",
    "df.info()"
   ]
  },
  {
   "cell_type": "code",
   "execution_count": null,
   "id": "56f2847b",
   "metadata": {},
   "outputs": [],
   "source": [
    "# Revisar encabezados\n",
    "df.head()"
   ]
  },
  {
   "cell_type": "markdown",
   "id": "36b41d98",
   "metadata": {},
   "source": [
    "## Etapa 3. Análisis"
   ]
  },
  {
   "cell_type": "code",
   "execution_count": null,
   "id": "e0a8d232",
   "metadata": {},
   "outputs": [],
   "source": [
    "def number_tracks(day, city):\n",
    "    filtered = df[df['day'] == day]\n",
    "    filtered = filtered[filtered['city'] == city]\n",
    "    return filtered['user_id'].count()"
   ]
  },
  {
   "cell_type": "code",
   "execution_count": null,
   "id": "f82c5950",
   "metadata": {},
   "outputs": [],
   "source": [
    "# Número de canciones reproducidas en Springfield el lunes\n",
    "number_tracks('Monday', 'Springfield')"
   ]
  },
  {
   "cell_type": "code",
   "execution_count": null,
   "id": "1b5e2c28",
   "metadata": {},
   "outputs": [],
   "source": [
    "# Número de canciones reproducidas en Shelbyville el lunes\n",
    "number_tracks('Monday', 'Shelbyville')"
   ]
  },
  {
   "cell_type": "code",
   "execution_count": null,
   "id": "cbe618d1",
   "metadata": {},
   "outputs": [],
   "source": [
    "# Número de canciones reproducidas en Springfield el viernes\n",
    "number_tracks('Friday', 'Springfield')"
   ]
  },
  {
   "cell_type": "code",
   "execution_count": null,
   "id": "fe314ec9",
   "metadata": {},
   "outputs": [],
   "source": [
    "# Número de canciones reproducidas en Shelbyville el viernes\n",
    "number_tracks('Friday', 'Shelbyville')"
   ]
  },
  {
   "cell_type": "markdown",
   "id": "aed35a72",
   "metadata": {},
   "source": [
    "## Conclusiones\n",
    "\n",
    "El análisis mostró que las personas escuchan música de forma diferente según la ciudad y el día. Por ejemplo, un día hay más reproducciones en Springfield y otro en Shelbyville. También corregimos datos repetidos y errores en los nombres de las columnas, lo que mejoró la calidad del análisis. En resumen, **sí hay diferencias en los hábitos de escucha según el lugar y el día**."
   ]
  }
 ],
 "metadata": {},
 "nbformat": 4,
 "nbformat_minor": 5
}